{
 "cells": [
  {
   "cell_type": "code",
   "execution_count": 1,
   "metadata": {},
   "outputs": [
    {
     "data": {
      "text/plain": [
       "True"
      ]
     },
     "execution_count": 1,
     "metadata": {},
     "output_type": "execute_result"
    }
   ],
   "source": [
    "import os\n",
    "\n",
    "import pickle\n",
    "import time\n",
    "from langchain.chat_models import ChatOllama\n",
    "from langchain.chains import RetrievalQA\n",
    "from langchain.text_splitter import RecursiveCharacterTextSplitter\n",
    "from langchain.document_loaders import UnstructuredURLLoader,TextLoader\n",
    "from langchain.embeddings import HuggingFaceEmbeddings\n",
    "from langchain.vectorstores import FAISS\n",
    "from dotenv import load_dotenv\n",
    "load_dotenv()  # take environment variables from .env\n"
   ]
  },
  {
   "cell_type": "code",
   "execution_count": 2,
   "metadata": {},
   "outputs": [
    {
     "name": "stderr",
     "output_type": "stream",
     "text": [
      "/tmp/ipykernel_125570/4227689947.py:2: LangChainDeprecationWarning: The class `ChatOllama` was deprecated in LangChain 0.3.1 and will be removed in 1.0.0. An updated version of the class exists in the :class:`~langchain-ollama package and should be used instead. To use it run `pip install -U :class:`~langchain-ollama` and import as `from :class:`~langchain_ollama import ChatOllama``.\n",
      "  llm = ChatOllama(model=\"deepseek-r1:7b\", base_url=\"http://127.0.0.1:11500\")\n"
     ]
    }
   ],
   "source": [
    "file_path = \"faiss_store_deepseek.pkl\"\n",
    "llm = ChatOllama(model=\"deepseek-r1:7b\", base_url=\"http://127.0.0.1:11500\")"
   ]
  },
  {
   "cell_type": "code",
   "execution_count": 3,
   "metadata": {},
   "outputs": [
    {
     "data": {
      "text/plain": [
       "[Document(metadata={'source': '/home/jaskaran/Desktop/langchain-main/2_news_research_tool_project/notebooks/nvda_news_1.txt'}, page_content=\"The stock of NVIDIA Corp (NASDAQ:NVDA) experienced a daily loss of -3.56% and a 3-month gain of 32.35%. With an Earnings Per Share (EPS) (EPS) of $1.92, the question arises: is the stock significantly overvalued? This article aims to provide a detailed valuation analysis of NVIDIA, offering insights into its financial strength, profitability, growth, and more. We invite you to delve into this comprehensive analysis.\\n\\nCompany Overview\\nWarning! GuruFocus has detected 10 Warning Signs with NVDA. Click here to check it out.\\n\\nNVDA 30-Year Financial Data\\n\\nThe intrinsic value of NVDA\\n\\n\\nNVIDIA Corp (NASDAQ:NVDA) is a leading designer of discrete graphics processing units that enhance the experience on computing platforms. The firm's chips are widely used in various end markets, including PC gaming and data centers. In recent years, NVIDIA has broadened its focus from traditional PC graphics applications such as gaming to more complex and favorable opportunities, including artificial intelligence and autonomous driving, leveraging the high-performance capabilities of its products.\\n\\nCurrently, NVIDIA's stock price stands at $418.01, significantly higher than the GF Value of $310.28, indicating the stock might be overvalued. With a market cap of $1 trillion, the valuation seems steep. The following analysis aims to delve deeper into the company's value.\\n\\nIs NVIDIA's Stock Significantly Overvalued? A Comprehensive Valuation Analysis\\nIs NVIDIA's Stock Significantly Overvalued? A Comprehensive Valuation Analysis\\nUnderstanding the GF Value\\nThe GF Value is a unique measure of the intrinsic value of a stock, calculated based on historical trading multiples, a GuruFocus adjustment factor, and future business performance estimates. If the stock price is significantly above the GF Value Line, it is overvalued, and its future return is likely to be poor. Conversely, if it is significantly below the GF Value Line, its future return will likely be higher.\\n\\nAccording to GuruFocus Value calculation, NVIDIA (NASDAQ:NVDA) appears to be significantly overvalued. The stock's current price of $418.01 per share and the market cap of $1 trillion further strengthen this assumption.\\n\\nGiven that NVIDIA is significantly overvalued, the long-term return of its stock is likely to be much lower than its future business growth.\\n\\nIs NVIDIA's Stock Significantly Overvalued? A Comprehensive Valuation Analysis\\nIs NVIDIA's Stock Significantly Overvalued? A Comprehensive Valuation Analysis\\nLink: These companies may deliver higher future returns at reduced risk.\\n\\nFinancial Strength of NVIDIA\\nExamining the financial strength of a company is crucial before investing in its stock. Companies with poor financial strength pose a higher risk of permanent loss. NVIDIA's cash-to-debt ratio of 1.27 is worse than 58.04% of companies in the Semiconductors industry. However, NVIDIA's overall financial strength is 8 out of 10, indicating a strong financial position.\\n\\nIs NVIDIA's Stock Significantly Overvalued? A Comprehensive Valuation Analysis\\nIs NVIDIA's Stock Significantly Overvalued? A Comprehensive Valuation Analysis\\nProfitability and Growth\\nConsistent profitability over the long term reduces the risk for investors. NVIDIA, with its profitability ranking of 10 out of 10, has been profitable for the past 10 years. The company's operating margin of 17.37% ranks better than 76.5% of companies in the Semiconductors industry.\\n\\nHowever, growth is a crucial factor in a company's valuation. NVIDIA's growth ranks worse than 52.99% of companies in the Semiconductors industry, with its 3-year average revenue growth rate better than 87.88% of companies in the industry.\\n\\nROIC vs WACC\\nComparing a company's return on invested capital (ROIC) to its weighted average cost of capital (WACC) is an effective way to evaluate its profitability. Over the past 12 months, NVIDIA's ROIC was 20.32 while its WACC was 16.74, suggesting that the company is creating value for its shareholders.\\n\\nIs NVIDIA's Stock Significantly Overvalued? A Comprehensive Valuation Analysis\\nIs NVIDIA's Stock Significantly Overvalued? A Comprehensive Valuation Analysis\\nConclusion\\nIn conclusion, NVIDIA (NASDAQ:NVDA) appears to be significantly overvalued. Despite its strong financial condition and profitability, its growth ranks lower than 52.99% of companies in the Semiconductors industry. To learn more about NVIDIA stock, you can check out its 30-Year Financials here.\\n\\nTo find out the high quality companies that may deliver above-average returns, please check out GuruFocus High Quality Low Capex Screener.\\n\\nThis article first appeared on GuruFocus.\")]"
      ]
     },
     "execution_count": 3,
     "metadata": {},
     "output_type": "execute_result"
    }
   ],
   "source": [
    "loader=TextLoader(\"/home/jaskaran/Desktop/langchain-main/2_news_research_tool_project/notebooks/nvda_news_1.txt\")\n",
    "data=loader.load()\n",
    "data"
   ]
  },
  {
   "cell_type": "code",
   "execution_count": 4,
   "metadata": {},
   "outputs": [
    {
     "data": {
      "text/plain": [
       "[Document(metadata={'source': '/home/jaskaran/Desktop/langchain-main/2_news_research_tool_project/notebooks/nvda_news_1.txt'}, page_content='The stock of NVIDIA Corp (NASDAQ:NVDA) experienced a daily loss of -3.56% and a 3-month gain of 32.35%. With an Earnings Per Share (EPS) (EPS) of $1.92, the question arises: is the stock significantly overvalued? This article aims to provide a detailed valuation analysis of NVIDIA, offering insights into its financial strength, profitability, growth, and more. We invite you to delve into this comprehensive analysis.\\n\\nCompany Overview\\nWarning! GuruFocus has detected 10 Warning Signs with NVDA. Click here to check it out.\\n\\nNVDA 30-Year Financial Data\\n\\nThe intrinsic value of NVDA'),\n",
       " Document(metadata={'source': '/home/jaskaran/Desktop/langchain-main/2_news_research_tool_project/notebooks/nvda_news_1.txt'}, page_content=\"Company Overview\\nWarning! GuruFocus has detected 10 Warning Signs with NVDA. Click here to check it out.\\n\\nNVDA 30-Year Financial Data\\n\\nThe intrinsic value of NVDA\\n\\n\\nNVIDIA Corp (NASDAQ:NVDA) is a leading designer of discrete graphics processing units that enhance the experience on computing platforms. The firm's chips are widely used in various end markets, including PC gaming and data centers. In recent years, NVIDIA has broadened its focus from traditional PC graphics applications such as gaming to more complex and favorable opportunities, including artificial intelligence and autonomous driving, leveraging the high-performance capabilities of its products.\\n\\nCurrently, NVIDIA's stock price stands at $418.01, significantly higher than the GF Value of $310.28, indicating the stock might be overvalued. With a market cap of $1 trillion, the valuation seems steep. The following analysis aims to delve deeper into the company's value.\"),\n",
       " Document(metadata={'source': '/home/jaskaran/Desktop/langchain-main/2_news_research_tool_project/notebooks/nvda_news_1.txt'}, page_content=\"Is NVIDIA's Stock Significantly Overvalued? A Comprehensive Valuation Analysis\\nIs NVIDIA's Stock Significantly Overvalued? A Comprehensive Valuation Analysis\\nUnderstanding the GF Value\\nThe GF Value is a unique measure of the intrinsic value of a stock, calculated based on historical trading multiples, a GuruFocus adjustment factor, and future business performance estimates. If the stock price is significantly above the GF Value Line, it is overvalued, and its future return is likely to be poor. Conversely, if it is significantly below the GF Value Line, its future return will likely be higher.\\n\\nAccording to GuruFocus Value calculation, NVIDIA (NASDAQ:NVDA) appears to be significantly overvalued. The stock's current price of $418.01 per share and the market cap of $1 trillion further strengthen this assumption.\\n\\nGiven that NVIDIA is significantly overvalued, the long-term return of its stock is likely to be much lower than its future business growth.\"),\n",
       " Document(metadata={'source': '/home/jaskaran/Desktop/langchain-main/2_news_research_tool_project/notebooks/nvda_news_1.txt'}, page_content=\"Given that NVIDIA is significantly overvalued, the long-term return of its stock is likely to be much lower than its future business growth.\\n\\nIs NVIDIA's Stock Significantly Overvalued? A Comprehensive Valuation Analysis\\nIs NVIDIA's Stock Significantly Overvalued? A Comprehensive Valuation Analysis\\nLink: These companies may deliver higher future returns at reduced risk.\\n\\nFinancial Strength of NVIDIA\\nExamining the financial strength of a company is crucial before investing in its stock. Companies with poor financial strength pose a higher risk of permanent loss. NVIDIA's cash-to-debt ratio of 1.27 is worse than 58.04% of companies in the Semiconductors industry. However, NVIDIA's overall financial strength is 8 out of 10, indicating a strong financial position.\"),\n",
       " Document(metadata={'source': '/home/jaskaran/Desktop/langchain-main/2_news_research_tool_project/notebooks/nvda_news_1.txt'}, page_content=\"Is NVIDIA's Stock Significantly Overvalued? A Comprehensive Valuation Analysis\\nIs NVIDIA's Stock Significantly Overvalued? A Comprehensive Valuation Analysis\\nProfitability and Growth\\nConsistent profitability over the long term reduces the risk for investors. NVIDIA, with its profitability ranking of 10 out of 10, has been profitable for the past 10 years. The company's operating margin of 17.37% ranks better than 76.5% of companies in the Semiconductors industry.\\n\\nHowever, growth is a crucial factor in a company's valuation. NVIDIA's growth ranks worse than 52.99% of companies in the Semiconductors industry, with its 3-year average revenue growth rate better than 87.88% of companies in the industry.\"),\n",
       " Document(metadata={'source': '/home/jaskaran/Desktop/langchain-main/2_news_research_tool_project/notebooks/nvda_news_1.txt'}, page_content=\"ROIC vs WACC\\nComparing a company's return on invested capital (ROIC) to its weighted average cost of capital (WACC) is an effective way to evaluate its profitability. Over the past 12 months, NVIDIA's ROIC was 20.32 while its WACC was 16.74, suggesting that the company is creating value for its shareholders.\\n\\nIs NVIDIA's Stock Significantly Overvalued? A Comprehensive Valuation Analysis\\nIs NVIDIA's Stock Significantly Overvalued? A Comprehensive Valuation Analysis\\nConclusion\\nIn conclusion, NVIDIA (NASDAQ:NVDA) appears to be significantly overvalued. Despite its strong financial condition and profitability, its growth ranks lower than 52.99% of companies in the Semiconductors industry. To learn more about NVIDIA stock, you can check out its 30-Year Financials here.\\n\\nTo find out the high quality companies that may deliver above-average returns, please check out GuruFocus High Quality Low Capex Screener.\\n\\nThis article first appeared on GuruFocus.\")]"
      ]
     },
     "execution_count": 4,
     "metadata": {},
     "output_type": "execute_result"
    }
   ],
   "source": [
    "text_splitter = RecursiveCharacterTextSplitter(\n",
    "        separators=['\\n\\n', '\\n', '.', ','],\n",
    "        chunk_size=1000\n",
    "    )\n",
    "docs = text_splitter.split_documents(data)\n",
    "docs"
   ]
  },
  {
   "cell_type": "code",
   "execution_count": 5,
   "metadata": {},
   "outputs": [
    {
     "name": "stderr",
     "output_type": "stream",
     "text": [
      "/tmp/ipykernel_125570/3169752069.py:1: LangChainDeprecationWarning: The class `HuggingFaceEmbeddings` was deprecated in LangChain 0.2.2 and will be removed in 1.0. An updated version of the class exists in the :class:`~langchain-huggingface package and should be used instead. To use it run `pip install -U :class:`~langchain-huggingface` and import as `from :class:`~langchain_huggingface import HuggingFaceEmbeddings``.\n",
      "  embeddings = HuggingFaceEmbeddings(model_name=\"sentence-transformers/all-MiniLM-L6-v2\")\n",
      "/home/jaskaran/anaconda3/envs/res/lib/python3.11/site-packages/tqdm/auto.py:21: TqdmWarning: IProgress not found. Please update jupyter and ipywidgets. See https://ipywidgets.readthedocs.io/en/stable/user_install.html\n",
      "  from .autonotebook import tqdm as notebook_tqdm\n",
      "/home/jaskaran/anaconda3/envs/res/lib/python3.11/site-packages/huggingface_hub/file_download.py:896: FutureWarning: `resume_download` is deprecated and will be removed in version 1.0.0. Downloads always resume when possible. If you want to force a new download, use `force_download=True`.\n",
      "  warnings.warn(\n",
      "/home/jaskaran/anaconda3/envs/res/lib/python3.11/site-packages/huggingface_hub/file_download.py:896: FutureWarning: `resume_download` is deprecated and will be removed in version 1.0.0. Downloads always resume when possible. If you want to force a new download, use `force_download=True`.\n",
      "  warnings.warn(\n"
     ]
    }
   ],
   "source": [
    "embeddings = HuggingFaceEmbeddings(model_name=\"sentence-transformers/all-MiniLM-L6-v2\")\n",
    "vectorstore = FAISS.from_documents(docs, embeddings)"
   ]
  },
  {
   "cell_type": "code",
   "execution_count": 6,
   "metadata": {},
   "outputs": [],
   "source": [
    "with open(file_path, \"wb\") as f:\n",
    "    pickle.dump(vectorstore, f)"
   ]
  },
  {
   "cell_type": "code",
   "execution_count": 7,
   "metadata": {},
   "outputs": [],
   "source": [
    "query=\"is NVIDIA overvalued? \""
   ]
  },
  {
   "cell_type": "code",
   "execution_count": 8,
   "metadata": {},
   "outputs": [],
   "source": [
    "with open(file_path, \"rb\") as f:\n",
    "    vectorstore = pickle.load(f)"
   ]
  },
  {
   "cell_type": "code",
   "execution_count": 20,
   "metadata": {},
   "outputs": [],
   "source": [
    "chain = RetrievalQA.from_llm(llm=llm, retriever=vectorstore.as_retriever())\n",
    "result = chain({\"query\": query}, return_only_outputs=True)"
   ]
  },
  {
   "cell_type": "code",
   "execution_count": 21,
   "metadata": {},
   "outputs": [
    {
     "data": {
      "text/plain": [
       "{'result': \"<think>\\nOkay, so I need to figure out whether NVIDIA is overvalued based on the provided context. Let me start by going through each piece of information step by step.\\n\\nFirst, there's a mention of the GF Value. The GF Value acts as an intrinsic value calculated using historical trading multiples, a GuruFocus adjustment factor, and future business performance estimates. If the stock price is above this line significantly, it's overvalued; if below, undervalued.\\n\\nThe context says that NVIDIA's current price is $418.01, which is higher than their GF Value of $310.28. That already points towards being overvalued. Additionally, the market cap is stated as $1 trillion, which seems high compared to its intrinsic value based on GF.\\n\\nLooking at the financial strength, NVIDIA has a cash-to-debt ratio of 1.27, which is worse than 58% of companies in the semiconductor industry. However, their overall financial strength rating is an 8 out of 10, indicating they're in good shape but not top-tier.\\n\\nThe stock's performance shows a daily loss of -3.56% and a 3-month gain of 32.35%. This might suggest some volatility or maybe recent news affecting the market negatively.\\n\\nNVIDIA is expanding its product line beyond gaming chips into AI, autonomous driving, etc., which could indicate growth potential despite current high valuations.\\n\\nPutting it all together: The GF Value analysis shows they're overvalued based on intrinsic value. Their stock price and market cap reinforce that. While their financial strength isn't exceptional, the expansion into new markets might offer future growth, but given the significant gap between current price and GF Value, I think they are indeed overvalued.\\n</think>\\n\\nBased on the analysis of NVIDIA's intrinsic value through the GF Value calculation, along with its stock price and market capitalization, it is evident that NVIDIA's stock is significantly overvalued. The current stock price of $418.01 exceeds the calculated intrinsic value ($310.28), and a market cap of $1 trillion further supports this conclusion. Despite potential future growth in product expansion into AI and autonomous driving, the significant gap between the stock's price and its intrinsic value suggests that NVIDIA is overvalued at present. \\n\\n**Answer:** Yes, NVIDIA's stock appears to be significantly overvalued based on its current price compared to its GF Value and market capitalization.\"}"
      ]
     },
     "execution_count": 21,
     "metadata": {},
     "output_type": "execute_result"
    }
   ],
   "source": [
    "result"
   ]
  },
  {
   "cell_type": "code",
   "execution_count": 22,
   "metadata": {},
   "outputs": [],
   "source": [
    "import re"
   ]
  },
  {
   "cell_type": "code",
   "execution_count": 23,
   "metadata": {},
   "outputs": [],
   "source": [
    "def extract_outside_think_tags(text):\n",
    "    # Remove everything inside <think>...</think> including the tags\n",
    "    cleaned_text = re.sub(r'<think>.*?</think>', '', text, flags=re.DOTALL)\n",
    "    return cleaned_text.strip()"
   ]
  },
  {
   "cell_type": "code",
   "execution_count": 24,
   "metadata": {},
   "outputs": [
    {
     "data": {
      "text/plain": [
       "\"<think>\\nOkay, so I need to figure out whether NVIDIA is overvalued based on the provided context. Let me start by going through each piece of information step by step.\\n\\nFirst, there's a mention of the GF Value. The GF Value acts as an intrinsic value calculated using historical trading multiples, a GuruFocus adjustment factor, and future business performance estimates. If the stock price is above this line significantly, it's overvalued; if below, undervalued.\\n\\nThe context says that NVIDIA's current price is $418.01, which is higher than their GF Value of $310.28. That already points towards being overvalued. Additionally, the market cap is stated as $1 trillion, which seems high compared to its intrinsic value based on GF.\\n\\nLooking at the financial strength, NVIDIA has a cash-to-debt ratio of 1.27, which is worse than 58% of companies in the semiconductor industry. However, their overall financial strength rating is an 8 out of 10, indicating they're in good shape but not top-tier.\\n\\nThe stock's performance shows a daily loss of -3.56% and a 3-month gain of 32.35%. This might suggest some volatility or maybe recent news affecting the market negatively.\\n\\nNVIDIA is expanding its product line beyond gaming chips into AI, autonomous driving, etc., which could indicate growth potential despite current high valuations.\\n\\nPutting it all together: The GF Value analysis shows they're overvalued based on intrinsic value. Their stock price and market cap reinforce that. While their financial strength isn't exceptional, the expansion into new markets might offer future growth, but given the significant gap between current price and GF Value, I think they are indeed overvalued.\\n</think>\\n\\nBased on the analysis of NVIDIA's intrinsic value through the GF Value calculation, along with its stock price and market capitalization, it is evident that NVIDIA's stock is significantly overvalued. The current stock price of $418.01 exceeds the calculated intrinsic value ($310.28), and a market cap of $1 trillion further supports this conclusion. Despite potential future growth in product expansion into AI and autonomous driving, the significant gap between the stock's price and its intrinsic value suggests that NVIDIA is overvalued at present. \\n\\n**Answer:** Yes, NVIDIA's stock appears to be significantly overvalued based on its current price compared to its GF Value and market capitalization.\""
      ]
     },
     "execution_count": 24,
     "metadata": {},
     "output_type": "execute_result"
    }
   ],
   "source": [
    "\n",
    "result_new = result['result']\n",
    "\n",
    "result_new"
   ]
  },
  {
   "cell_type": "code",
   "execution_count": 25,
   "metadata": {},
   "outputs": [
    {
     "name": "stdout",
     "output_type": "stream",
     "text": [
      "Based on the analysis of NVIDIA's intrinsic value through the GF Value calculation, along with its stock price and market capitalization, it is evident that NVIDIA's stock is significantly overvalued. The current stock price of $418.01 exceeds the calculated intrinsic value ($310.28), and a market cap of $1 trillion further supports this conclusion. Despite potential future growth in product expansion into AI and autonomous driving, the significant gap between the stock's price and its intrinsic value suggests that NVIDIA is overvalued at present. \n",
      "\n",
      "**Answer:** Yes, NVIDIA's stock appears to be significantly overvalued based on its current price compared to its GF Value and market capitalization.\n"
     ]
    }
   ],
   "source": [
    "\n",
    "outside_text = extract_outside_think_tags(result_new)\n",
    "\n",
    "print(outside_text)    "
   ]
  }
 ],
 "metadata": {
  "kernelspec": {
   "display_name": "res",
   "language": "python",
   "name": "python3"
  },
  "language_info": {
   "codemirror_mode": {
    "name": "ipython",
    "version": 3
   },
   "file_extension": ".py",
   "mimetype": "text/x-python",
   "name": "python",
   "nbconvert_exporter": "python",
   "pygments_lexer": "ipython3",
   "version": "3.11.11"
  }
 },
 "nbformat": 4,
 "nbformat_minor": 2
}
