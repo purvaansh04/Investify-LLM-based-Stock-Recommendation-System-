{
 "cells": [
  {
   "cell_type": "code",
   "execution_count": 9,
   "id": "58aa3032",
   "metadata": {},
   "outputs": [
    {
     "data": {
      "text/plain": [
       "[Document(metadata={'source': 'https://www.bbc.com/sport/football/articles/c62gzv6m555o'}, page_content=\"Who has made Troy's Premier League team of the week?\\n\\nPublished\\n\\n1 minute ago\\n\\nComments\\n\\nAfter every round of Premier League matches this season, BBC football pundit Troy Deeney will give you his team and manager of the week.\\n\\nHere are this week's choices. Do you agree? Give us your thoughts using the comments form at the bottom of this page.\\n\\nMark Flekken (Brentford): Chelsea had 21 shots yet he kept a clean sheet. It wasn't a great game of football but he's one of only four goalkeepers who kept a clean sheet this weekend.\\n\\nDaniel Munoz (Crystal Palace): Scored for Palace and has become a monster at the back. Ever reliable and you want him in your Fantasy Premier League team all the time.\\n\\nCalvin Bassey (Fulham): By far the best player for Fulham, he was excellent.\\n\\nNoussair Mazraoui (Manchester United): Becoming Manchester United's most consistent defender, goes under the radar but makes a lot of last-ditch tackles - the one he made on Phil Foden kept them in the game.\\n\\nYouri Tielemans (Aston Villa): He's become undroppable for Villa, excellent. He had a year last year where you thought maybe they needed to move on and get someone better, but this year he's gone from strength to strength and has become a key component. Him and Boubacar Kamara, who was rested at the weekend, have built a massive presence of quality, tough tackling and reliability that Villa have built a foundation on.\\n\\nJoao Gomes (Wolves): He was the best player on the pitch by a country mile. Wolves might be worried about losing Matheus Cunha but in my opinion Gomes is the one they need to watch, and will be the harder one to replace. Excellent footballer, took over the game in the second half when they were 1-0 down. Just said 'don't worry guys give me the ball, watch what I can do'.\\n\\nMorgan Rogers (Aston Villa): Time and time again for Villa, keeps going, keeps doing wonderful things. I think he will grow into a regular for England, I rate him that highly. If you put him on the left he still delivers but I think his natural position is the number 10 role. Having Marco Asensio there he can learn, he can understand and it will also put that fire in his belly that he wants to be the main man - even though there's wonderful players around him.\\n\\nJacob Murphy (Newcastle): Two great goals, has he been the most underrated player this season? I would say I don't know of anyone who has gone more under the radar, but has been a seven-and-a-half or an eight out of 10 every game. He's been excellent.\\n\\nRyan Sessegnon (Fulham): A massive win against Liverpool and I think he's waited for a long time to showcase the best version of himself. A lot of injuries, a lot of tough times at Fulham but he's having a run of form that is excellent.\\n\\nEvanilson (Bournemouth): I thought he was excellent again, two goals at the weekend. When people are struggling for a number nine I've managed to put two in my team.\\n\\nJorgen Strand Larsen (Wolves): A contender for most improved this season. He has developed into a top player, double figures for a team who are struggling. His confidence, touch and assist for the first goal were fantastic. Then a poacher's goal, a really good finish, for the second.\\n\\nUnai Emery (Aston Villa): A huge win for Aston Villa, building on what has been a fantastic season and now going into a massive Champions League tie against Paris St-Germain. Most people would have expected them to rest players and change players against a very good Forest team. They did change players, however they were excellent and still got the job done.\\n\\nDo you agree with Troy's selections? Who would be in your Team of the Week? Have your say using the comments form below:\\n\\nRelated topics\\n\\nPremier League\\n\\nFootball\\n\\nMore on this story\\n\\nAll your football quizzes in one place\\n\\nGet football news sent straight to your phone\\n\\nPublished\\n\\n31 January\")]"
      ]
     },
     "execution_count": 9,
     "metadata": {},
     "output_type": "execute_result"
    }
   ],
   "source": [
    "from langchain.document_loaders import UnstructuredURLLoader\n",
    "\n",
    "# Step 1: Load the URL content\n",
    "urls = [\"https://www.bbc.com/sport/football/articles/c62gzv6m555o\"]\n",
    "loader = UnstructuredURLLoader(urls=urls)\n",
    "docs = loader.load()\n",
    "docs"
   ]
  }
 ],
 "metadata": {
  "kernelspec": {
   "display_name": "res",
   "language": "python",
   "name": "python3"
  },
  "language_info": {
   "codemirror_mode": {
    "name": "ipython",
    "version": 3
   },
   "file_extension": ".py",
   "mimetype": "text/x-python",
   "name": "python",
   "nbconvert_exporter": "python",
   "pygments_lexer": "ipython3",
   "version": "3.11.11"
  }
 },
 "nbformat": 4,
 "nbformat_minor": 5
}
